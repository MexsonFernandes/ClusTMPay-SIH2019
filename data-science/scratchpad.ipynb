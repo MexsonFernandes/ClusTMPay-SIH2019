{
 "cells": [
  {
   "cell_type": "code",
   "execution_count": 1,
   "metadata": {},
   "outputs": [],
   "source": [
    "import numpy as np\n",
    "import pandas as pd"
   ]
  },
  {
   "cell_type": "code",
   "execution_count": 2,
   "metadata": {},
   "outputs": [
    {
     "data": {
      "text/html": [
       "<div>\n",
       "<style scoped>\n",
       "    .dataframe tbody tr th:only-of-type {\n",
       "        vertical-align: middle;\n",
       "    }\n",
       "\n",
       "    .dataframe tbody tr th {\n",
       "        vertical-align: top;\n",
       "    }\n",
       "\n",
       "    .dataframe thead th {\n",
       "        text-align: right;\n",
       "    }\n",
       "</style>\n",
       "<table border=\"1\" class=\"dataframe\">\n",
       "  <thead>\n",
       "    <tr style=\"text-align: right;\">\n",
       "      <th></th>\n",
       "      <th>id</th>\n",
       "      <th>trigger number</th>\n",
       "      <th>was followed</th>\n",
       "      <th>delay</th>\n",
       "      <th>e</th>\n",
       "      <th>n_date</th>\n",
       "      <th>n_hour</th>\n",
       "      <th>n_day</th>\n",
       "      <th>f_date</th>\n",
       "      <th>f_hour</th>\n",
       "      <th>f_day</th>\n",
       "      <th>group</th>\n",
       "      <th>send_time</th>\n",
       "      <th>viewed_time</th>\n",
       "    </tr>\n",
       "  </thead>\n",
       "  <tbody>\n",
       "    <tr>\n",
       "      <th>0</th>\n",
       "      <td>1</td>\n",
       "      <td>1</td>\n",
       "      <td>1.0</td>\n",
       "      <td>803</td>\n",
       "      <td>1</td>\n",
       "      <td>2014-10-13</td>\n",
       "      <td>12</td>\n",
       "      <td>Mon</td>\n",
       "      <td>2014-10-13</td>\n",
       "      <td>12</td>\n",
       "      <td>Mon</td>\n",
       "      <td>Intelligent</td>\n",
       "      <td>12:19:24</td>\n",
       "      <td>12:32:00</td>\n",
       "    </tr>\n",
       "    <tr>\n",
       "      <th>1</th>\n",
       "      <td>1</td>\n",
       "      <td>2</td>\n",
       "      <td>1.0</td>\n",
       "      <td>2401</td>\n",
       "      <td>1</td>\n",
       "      <td>2014-10-13</td>\n",
       "      <td>18</td>\n",
       "      <td>Mon</td>\n",
       "      <td>2014-10-13</td>\n",
       "      <td>18</td>\n",
       "      <td>Mon</td>\n",
       "      <td>Intelligent</td>\n",
       "      <td>18:04:42</td>\n",
       "      <td>18:44:00</td>\n",
       "    </tr>\n",
       "    <tr>\n",
       "      <th>2</th>\n",
       "      <td>1</td>\n",
       "      <td>3</td>\n",
       "      <td>0.0</td>\n",
       "      <td>0</td>\n",
       "      <td>1</td>\n",
       "      <td>2014-10-14</td>\n",
       "      <td>11</td>\n",
       "      <td>Tue</td>\n",
       "      <td>1970-01-01</td>\n",
       "      <td>0</td>\n",
       "      <td>Thu</td>\n",
       "      <td>Intelligent</td>\n",
       "      <td>11:12:25</td>\n",
       "      <td>NaN</td>\n",
       "    </tr>\n",
       "    <tr>\n",
       "      <th>3</th>\n",
       "      <td>3</td>\n",
       "      <td>1</td>\n",
       "      <td>1.0</td>\n",
       "      <td>9852</td>\n",
       "      <td>1</td>\n",
       "      <td>2014-08-10</td>\n",
       "      <td>20</td>\n",
       "      <td>Sun</td>\n",
       "      <td>2014-08-10</td>\n",
       "      <td>23</td>\n",
       "      <td>Sun</td>\n",
       "      <td>Occasional</td>\n",
       "      <td>20:16:28</td>\n",
       "      <td>23:00:00</td>\n",
       "    </tr>\n",
       "    <tr>\n",
       "      <th>4</th>\n",
       "      <td>3</td>\n",
       "      <td>2</td>\n",
       "      <td>0.0</td>\n",
       "      <td>0</td>\n",
       "      <td>1</td>\n",
       "      <td>2014-11-10</td>\n",
       "      <td>20</td>\n",
       "      <td>Mon</td>\n",
       "      <td>1970-01-01</td>\n",
       "      <td>0</td>\n",
       "      <td>Thu</td>\n",
       "      <td>Occasional</td>\n",
       "      <td>20:09:49</td>\n",
       "      <td>NaN</td>\n",
       "    </tr>\n",
       "  </tbody>\n",
       "</table>\n",
       "</div>"
      ],
      "text/plain": [
       "  id  trigger number  was followed  delay  e      n_date  n_hour n_day  \\\n",
       "0  1               1           1.0    803  1  2014-10-13      12   Mon   \n",
       "1  1               2           1.0   2401  1  2014-10-13      18   Mon   \n",
       "2  1               3           0.0      0  1  2014-10-14      11   Tue   \n",
       "3  3               1           1.0   9852  1  2014-08-10      20   Sun   \n",
       "4  3               2           0.0      0  1  2014-11-10      20   Mon   \n",
       "\n",
       "       f_date  f_hour f_day        group send_time viewed_time  \n",
       "0  2014-10-13      12   Mon  Intelligent  12:19:24    12:32:00  \n",
       "1  2014-10-13      18   Mon  Intelligent  18:04:42    18:44:00  \n",
       "2  1970-01-01       0   Thu  Intelligent  11:12:25         NaN  \n",
       "3  2014-08-10      23   Sun   Occasional  20:16:28    23:00:00  \n",
       "4  1970-01-01       0   Thu   Occasional  20:09:49         NaN  "
      ]
     },
     "execution_count": 2,
     "metadata": {},
     "output_type": "execute_result"
    }
   ],
   "source": [
    "\n",
    "noti = pd.read_csv('noti_data.csv')    \n",
    "\n",
    "df = pd.read_csv('dummy.csv',index_col = 0)\n",
    "df.fillna(0,inplace = True)\n",
    "\n",
    "noti['notification time'] = pd.to_datetime(noti['notification time'])\n",
    "noti['followed time'] = pd.to_datetime(noti['followed time'])\n",
    "\n",
    "send_time = noti['notification time'].apply(lambda x:x.time())\n",
    "viewed_time = noti[noti['was followed'] == 1]['followed time'].apply(lambda x:x.time())\n",
    "\n",
    "\n",
    "df['send_time'] = send_time\n",
    "df['viewed_time'] = viewed_time\n",
    "df.head()\n",
    "\n",
    "#df.to_csv('dummy.csv')\n"
   ]
  },
  {
   "cell_type": "code",
   "execution_count": 3,
   "metadata": {},
   "outputs": [
    {
     "name": "stdout",
     "output_type": "stream",
     "text": [
      "Unique id in\n",
      "User Data:180\n",
      "Log Data:157\n",
      "\n"
     ]
    },
    {
     "data": {
      "text/html": [
       "<div>\n",
       "<style scoped>\n",
       "    .dataframe tbody tr th:only-of-type {\n",
       "        vertical-align: middle;\n",
       "    }\n",
       "\n",
       "    .dataframe tbody tr th {\n",
       "        vertical-align: top;\n",
       "    }\n",
       "\n",
       "    .dataframe thead th {\n",
       "        text-align: right;\n",
       "    }\n",
       "</style>\n",
       "<table border=\"1\" class=\"dataframe\">\n",
       "  <thead>\n",
       "    <tr style=\"text-align: right;\">\n",
       "      <th></th>\n",
       "      <th>id</th>\n",
       "      <th>signup time</th>\n",
       "      <th>Group</th>\n",
       "      <th>age</th>\n",
       "      <th>gender</th>\n",
       "      <th>qual</th>\n",
       "    </tr>\n",
       "  </thead>\n",
       "  <tbody>\n",
       "    <tr>\n",
       "      <th>0</th>\n",
       "      <td>1</td>\n",
       "      <td>13-10-2014 09:39</td>\n",
       "      <td>1.0</td>\n",
       "      <td>48.0</td>\n",
       "      <td>Female</td>\n",
       "      <td>Degree</td>\n",
       "    </tr>\n",
       "    <tr>\n",
       "      <th>1</th>\n",
       "      <td>3</td>\n",
       "      <td>07-10-2014 22:07</td>\n",
       "      <td>3.0</td>\n",
       "      <td>42.0</td>\n",
       "      <td>Male</td>\n",
       "      <td>GCSEs / O levels or similar</td>\n",
       "    </tr>\n",
       "    <tr>\n",
       "      <th>2</th>\n",
       "      <td>4</td>\n",
       "      <td>04-09-2014 09:53</td>\n",
       "      <td>3.0</td>\n",
       "      <td>15.0</td>\n",
       "      <td>Male</td>\n",
       "      <td>Degree</td>\n",
       "    </tr>\n",
       "    <tr>\n",
       "      <th>3</th>\n",
       "      <td>5</td>\n",
       "      <td>17-09-2014 10:43</td>\n",
       "      <td>2.0</td>\n",
       "      <td>50.0</td>\n",
       "      <td>Male</td>\n",
       "      <td>Other</td>\n",
       "    </tr>\n",
       "    <tr>\n",
       "      <th>4</th>\n",
       "      <td>6</td>\n",
       "      <td>09-09-2014 20:35</td>\n",
       "      <td>2.0</td>\n",
       "      <td>5.0</td>\n",
       "      <td>Male</td>\n",
       "      <td>GCSEs / O levels or similar</td>\n",
       "    </tr>\n",
       "  </tbody>\n",
       "</table>\n",
       "</div>"
      ],
      "text/plain": [
       "  id       signup time  Group   age  gender                         qual\n",
       "0  1  13-10-2014 09:39    1.0  48.0  Female                       Degree\n",
       "1  3  07-10-2014 22:07    3.0  42.0    Male  GCSEs / O levels or similar\n",
       "2  4  04-09-2014 09:53    3.0  15.0    Male                       Degree\n",
       "3  5  17-09-2014 10:43    2.0  50.0    Male                        Other\n",
       "4  6  09-09-2014 20:35    2.0   5.0    Male  GCSEs / O levels or similar"
      ]
     },
     "execution_count": 3,
     "metadata": {},
     "output_type": "execute_result"
    }
   ],
   "source": [
    "user_data = pd.read_csv('user_data.csv')\n",
    "print('Unique id in\\nUser Data:{}\\nLog Data:{}\\n'.format(user_data['id'].nunique(),df['id'].nunique()))\n",
    "user_data.head()\n"
   ]
  },
  {
   "cell_type": "code",
   "execution_count": 6,
   "metadata": {},
   "outputs": [
    {
     "name": "stdout",
     "output_type": "stream",
     "text": [
      "<class 'pandas.core.frame.DataFrame'>\n",
      "Int64Index: 5437 entries, 0 to 5436\n",
      "Data columns (total 14 columns):\n",
      "id                5437 non-null object\n",
      "trigger number    5437 non-null int64\n",
      "was followed      5437 non-null float64\n",
      "delay             5437 non-null int64\n",
      "e                 5437 non-null int64\n",
      "n_date            5437 non-null object\n",
      "n_hour            5437 non-null int64\n",
      "n_day             5437 non-null object\n",
      "f_date            5437 non-null object\n",
      "f_hour            5437 non-null int64\n",
      "f_day             5437 non-null object\n",
      "group             5437 non-null object\n",
      "send_time         5437 non-null object\n",
      "viewed_time       801 non-null object\n",
      "dtypes: float64(1), int64(5), object(8)\n",
      "memory usage: 637.1+ KB\n"
     ]
    }
   ],
   "source": [
    "df.info()"
   ]
  },
  {
   "cell_type": "code",
   "execution_count": null,
   "metadata": {},
   "outputs": [],
   "source": [
    "## Temp mappings dict\n",
    "t_dic = user_data[['id','age','gender','qual']].set_index('id')\n",
    "t_dic.loc['3']['qual']"
   ]
  },
  {
   "cell_type": "code",
   "execution_count": null,
   "metadata": {},
   "outputs": [],
   "source": [
    "t_dic = user_data[['id','age','gender','qual']].set_index('id')\n",
    "t_dic.loc['3']['qual']"
   ]
  },
  {
   "cell_type": "code",
   "execution_count": null,
   "metadata": {},
   "outputs": [],
   "source": [
    "df['age'] = df['id'].map(lambda x: t_dic.loc[x]['age'])\n",
    "df['gender'] = df['id'].map(lambda x:t_dic.loc[x]['gender'])\n",
    "df['qual'] = df['id'].map(lambda x:t_dic.loc[x]['qual'])\n",
    "df.head()"
   ]
  },
  {
   "cell_type": "code",
   "execution_count": null,
   "metadata": {},
   "outputs": [],
   "source": [
    "df['gender'].isnull().value_counts()"
   ]
  },
  {
   "cell_type": "code",
   "execution_count": null,
   "metadata": {},
   "outputs": [],
   "source": [
    "df.info()"
   ]
  },
  {
   "cell_type": "code",
   "execution_count": null,
   "metadata": {},
   "outputs": [],
   "source": [
    "df.dropna().info()"
   ]
  },
  {
   "cell_type": "markdown",
   "metadata": {},
   "source": [
    "## NaNs"
   ]
  },
  {
   "cell_type": "code",
   "execution_count": null,
   "metadata": {},
   "outputs": [],
   "source": []
  }
 ],
 "metadata": {
  "kernelspec": {
   "display_name": "Python 3",
   "language": "python",
   "name": "python3"
  },
  "language_info": {
   "codemirror_mode": {
    "name": "ipython",
    "version": 3
   },
   "file_extension": ".py",
   "mimetype": "text/x-python",
   "name": "python",
   "nbconvert_exporter": "python",
   "pygments_lexer": "ipython3",
   "version": "3.7.1"
  }
 },
 "nbformat": 4,
 "nbformat_minor": 2
}
