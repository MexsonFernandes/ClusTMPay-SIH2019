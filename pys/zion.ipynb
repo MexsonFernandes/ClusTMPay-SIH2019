{
 "cells": [
  {
   "cell_type": "code",
   "execution_count": 1,
   "metadata": {},
   "outputs": [],
   "source": [
    "from zion import *\n",
    "import datetime\n",
    "\n"
   ]
  },
  {
   "cell_type": "code",
   "execution_count": 2,
   "metadata": {},
   "outputs": [
    {
     "data": {
      "text/html": [
       "<div>\n",
       "<style scoped>\n",
       "    .dataframe tbody tr th:only-of-type {\n",
       "        vertical-align: middle;\n",
       "    }\n",
       "\n",
       "    .dataframe tbody tr th {\n",
       "        vertical-align: top;\n",
       "    }\n",
       "\n",
       "    .dataframe thead th {\n",
       "        text-align: right;\n",
       "    }\n",
       "</style>\n",
       "<table border=\"1\" class=\"dataframe\">\n",
       "  <thead>\n",
       "    <tr style=\"text-align: right;\">\n",
       "      <th></th>\n",
       "      <th>id</th>\n",
       "      <th>user_id</th>\n",
       "      <th>timestamp</th>\n",
       "      <th>item_id</th>\n",
       "    </tr>\n",
       "  </thead>\n",
       "  <tbody>\n",
       "    <tr>\n",
       "      <th>0</th>\n",
       "      <td>1</td>\n",
       "      <td>8615101@apiit_edu_in</td>\n",
       "      <td>2019-03-03 13:15:45.578</td>\n",
       "      <td>https://static.pexels.com/photos/211048/pexels...</td>\n",
       "    </tr>\n",
       "    <tr>\n",
       "      <th>1</th>\n",
       "      <td>2</td>\n",
       "      <td>8615101@apiit_edu_in</td>\n",
       "      <td>2019-03-03 14:04:21.951</td>\n",
       "      <td>https://static.pexels.com/photos/1543/landscap...</td>\n",
       "    </tr>\n",
       "    <tr>\n",
       "      <th>2</th>\n",
       "      <td>3</td>\n",
       "      <td>8615101@apiit_edu_in</td>\n",
       "      <td>2019-03-03 15:05:20.261</td>\n",
       "      <td>https://static.pexels.com/photos/111147/pexels...</td>\n",
       "    </tr>\n",
       "    <tr>\n",
       "      <th>3</th>\n",
       "      <td>4</td>\n",
       "      <td>8615101@apiit_edu_in</td>\n",
       "      <td>2019-03-03 15:05:26.304</td>\n",
       "      <td>https://static.pexels.com/photos/111147/pexels...</td>\n",
       "    </tr>\n",
       "    <tr>\n",
       "      <th>4</th>\n",
       "      <td>5</td>\n",
       "      <td>8615101@apiit_edu_in</td>\n",
       "      <td>2019-03-03 15:05:28.203</td>\n",
       "      <td>https://static.pexels.com/photos/111147/pexels...</td>\n",
       "    </tr>\n",
       "  </tbody>\n",
       "</table>\n",
       "</div>"
      ],
      "text/plain": [
       "   id               user_id               timestamp  \\\n",
       "0   1  8615101@apiit_edu_in 2019-03-03 13:15:45.578   \n",
       "1   2  8615101@apiit_edu_in 2019-03-03 14:04:21.951   \n",
       "2   3  8615101@apiit_edu_in 2019-03-03 15:05:20.261   \n",
       "3   4  8615101@apiit_edu_in 2019-03-03 15:05:26.304   \n",
       "4   5  8615101@apiit_edu_in 2019-03-03 15:05:28.203   \n",
       "\n",
       "                                             item_id  \n",
       "0  https://static.pexels.com/photos/211048/pexels...  \n",
       "1  https://static.pexels.com/photos/1543/landscap...  \n",
       "2  https://static.pexels.com/photos/111147/pexels...  \n",
       "3  https://static.pexels.com/photos/111147/pexels...  \n",
       "4  https://static.pexels.com/photos/111147/pexels...  "
      ]
     },
     "execution_count": 2,
     "metadata": {},
     "output_type": "execute_result"
    }
   ],
   "source": [
    "purchases = pd.read_csv('data.purchasedata.csv')\n",
    "purchases['timestamp'] = purchases['timestamp'].map(lambda x: datetime.datetime.fromtimestamp(x/1e3))\n",
    "purchases.columns = 'id user_id timestamp item_id'.split()\n",
    "purchases.head()"
   ]
  },
  {
   "cell_type": "code",
   "execution_count": 3,
   "metadata": {},
   "outputs": [],
   "source": [
    "database = 'recombtm'\n",
    "token = 'djjzGlN5JPmG9nyeZgMt90P74h27jLRa1yLAd78svHptS014nvAmX5JvwAAHKh2f'"
   ]
  },
  {
   "cell_type": "code",
   "execution_count": 4,
   "metadata": {
    "scrolled": true
   },
   "outputs": [
    {
     "name": "stdout",
     "output_type": "stream",
     "text": [
      "[{'user_id': '8615103@apiit.edu.in', 'item_id': 0}, {'user_id': '8615103@apiit.edu.in', 'item_id': 1}, {'user_id': '8615103@apiit.edu.in', 'item_id': 2}, {'user_id': '8615103@apiit.edu.in', 'item_id': 5}, {'user_id': '8615103@apiit.edu.in', 'item_id': 6}, {'user_id': '8615103@apiit.edu.in', 'item_id': 7}, {'user_id': '8615103@apiit.edu.in', 'item_id': 8}, {'user_id': '8615103@apiit.edu.in', 'item_id': 9}, {'user_id': '8615103@apiit.edu.in', 'item_id': 10}, {'user_id': '8615103@apiit.edu.in', 'item_id': 11}, {'user_id': '8615103@apiit.edu.in', 'item_id': 12}]\n",
      "Done\n"
     ]
    }
   ],
   "source": [
    "push_zion(database = database, token = token, prod_list=list(purchases['item_id']),user = '8615103@apiit.edu.in',timestamp=False)"
   ]
  },
  {
   "cell_type": "code",
   "execution_count": 7,
   "metadata": {},
   "outputs": [
    {
     "name": "stdout",
     "output_type": "stream",
     "text": [
      "{'recommId': '1cf2e68a-c702-4811-a0b3-c0d3b6d9bd35', 'recomms': [{'id': '11'}, {'id': '12'}, {'id': '5'}, {'id': '6'}, {'id': '7'}]}\n"
     ]
    }
   ],
   "source": [
    "pred_prod(database = database,token = token,USER='8615125@apiit.edu.in',NUMBER= 5)"
   ]
  },
  {
   "cell_type": "markdown",
   "metadata": {},
   "source": [
    "## Decoding the recommended items\n"
   ]
  },
  {
   "cell_type": "code",
   "execution_count": 9,
   "metadata": {},
   "outputs": [],
   "source": [
    "prod_lst=list(purchases['item_id'])\n",
    "dic= {}\n",
    "for i,k in enumerate(prod_lst):\n",
    "    if k not in dic:\n",
    "        dic[k] = i"
   ]
  },
  {
   "cell_type": "code",
   "execution_count": 10,
   "metadata": {},
   "outputs": [
    {
     "data": {
      "text/plain": [
       "{0: 'https://static.pexels.com/photos/211048/pexels-photo-211048-medium.jpeg',\n",
       " 1: 'https://static.pexels.com/photos/1543/landscape-nature-man-person-medium.jpg',\n",
       " 2: 'https://static.pexels.com/photos/111147/pexels-photo-111147-medium.jpeg',\n",
       " 5: 'https://static.pexels.com/photos/1778/numbers-time-watch-white-medium.jpg',\n",
       " 6: 'https://static.pexels.com/photos/168575/pexels-photo-168575-medium.jpeg',\n",
       " 7: 'https://static.pexels.com/photos/169047/pexels-photo-169047-medium.jpeg',\n",
       " 8: 'https://static.pexels.com/photos/160826/girl-dress-bounce-nature-160826-medium.jpeg',\n",
       " 9: 'https://static.pexels.com/photos/70845/girl-model-pretty-portrait-70845-medium.jpeg',\n",
       " 10: 'https://static.pexels.com/photos/26378/pexels-photo-26378-medium.jpg',\n",
       " 11: 'https://static.pexels.com/photos/193355/pexels-photo-193355-medium.jpeg',\n",
       " 12: 'https://static.pexels.com/photos/33608/dog-ice-woman-purple-medium.jpg'}"
      ]
     },
     "execution_count": 10,
     "metadata": {},
     "output_type": "execute_result"
    }
   ],
   "source": [
    "inv_map = {v: k for k, v in dic.items()}\n",
    "inv_map"
   ]
  },
  {
   "cell_type": "code",
   "execution_count": 11,
   "metadata": {},
   "outputs": [
    {
     "name": "stdout",
     "output_type": "stream",
     "text": [
      "{'recomms': [{'id': '11'}, {'id': '12'}, {'id': '5'}, {'id': '6'}, {'id': '7'}], 'recommId': '34ebe263-e87d-4ec7-a690-e44d051a1123'}\n"
     ]
    }
   ],
   "source": [
    "pred_prod(database = database,token = token,USER='8615130@apiit.edu.in',NUMBER= 5)"
   ]
  },
  {
   "cell_type": "code",
   "execution_count": null,
   "metadata": {},
   "outputs": [],
   "source": []
  }
 ],
 "metadata": {
  "kernelspec": {
   "display_name": "Python 3",
   "language": "python",
   "name": "python3"
  },
  "language_info": {
   "codemirror_mode": {
    "name": "ipython",
    "version": 3
   },
   "file_extension": ".py",
   "mimetype": "text/x-python",
   "name": "python",
   "nbconvert_exporter": "python",
   "pygments_lexer": "ipython3",
   "version": "3.7.1"
  }
 },
 "nbformat": 4,
 "nbformat_minor": 2
}
